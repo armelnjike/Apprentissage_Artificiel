{
 "cells": [
  {
   "cell_type": "markdown",
   "source": [
    "###ACP FROM SCRACH###\n",
    "#NYA NJIKE ARMEL#\n",
    "\n"
   ],
   "metadata": {
    "collapsed": false
   }
  },
  {
   "cell_type": "code",
   "execution_count": 12,
   "outputs": [],
   "source": [],
   "metadata": {
    "collapsed": false,
    "pycharm": {
     "name": "#%%\n"
    }
   }
  },
  {
   "cell_type": "code",
   "execution_count": 31,
   "outputs": [],
   "source": [
    "import numpy as np\n",
    "\n",
    "#nom_fichier = str(input(\"Entrez le nom du fichier\"))\n",
    "#nbLignes = int(input(\"entrez le nombre d'individus :\"))\n",
    "#nbColone = int(input(\"entrez le nombre de variables :\"))\n",
    "# ************* MANUELLE *********************************\n",
    "\n",
    "nom_fichier = \"TP_ANALYSE\"\n",
    "nbLignes = 8\n",
    "nbColone = 8\n",
    "#    return nom_fichier,nbLignes,nbColone"
   ],
   "metadata": {
    "collapsed": false,
    "pycharm": {
     "name": "#%%\n"
    }
   }
  },
  {
   "cell_type": "code",
   "execution_count": 31,
   "outputs": [],
   "source": [],
   "metadata": {
    "collapsed": false,
    "pycharm": {
     "name": "#%%\n"
    }
   }
  },
  {
   "cell_type": "code",
   "execution_count": 32,
   "outputs": [
    {
     "name": "stdout",
     "output_type": "stream",
     "text": [
      "fichier  TP_ANALYSE  créer  !!\n"
     ]
    }
   ],
   "source": [
    "import os\n",
    "import math\n",
    "import  random\n",
    "def creer_fichier_de_données(nom_fichier,nbLignes,nbColone):\n",
    "    os.chdir(\"../../../DATASCIENCEprojects/DATASCIENCE M1/ANALYSE DE DONNEES/\")\n",
    "    file = open(str(nom_fichier),\"w\")\n",
    "    for i in range(nbLignes-1):\n",
    "        for j in range(nbColone-1):\n",
    "            file.write(str(random.randrange(2)))\n",
    "            file.write(\",\")\n",
    "        file.write(str(random.randrange(2)))\n",
    "        file.write(\"\\n\")\n",
    "    for k in range(nbColone-1):\n",
    "        file.write(str(random.randrange(2)))\n",
    "        file.write(\",\")\n",
    "    file.write(str(random.randrange(2)))\n",
    "\n",
    "    print(\"fichier \", nom_fichier,\" créer  !!\")\n",
    "creer_fichier_de_données(nom_fichier,nbLignes,nbColone)\n",
    "\n",
    "\n"
   ],
   "metadata": {
    "collapsed": false,
    "pycharm": {
     "name": "#%%\n"
    }
   }
  },
  {
   "cell_type": "code",
   "execution_count": 48,
   "outputs": [],
   "source": [],
   "metadata": {
    "collapsed": false,
    "pycharm": {
     "name": "#%%\n"
    }
   }
  },
  {
   "cell_type": "code",
   "execution_count": 49,
   "outputs": [
    {
     "name": "stdout",
     "output_type": "stream",
     "text": [
      "1,0,0,1,0,1,0,0\n",
      "0,0,1,0,1,0,0,0\n",
      "1,0,1,1,0,1,1,0\n",
      "0,1,0,0,0,1,0,0\n",
      "0,0,1,1,0,0,0,0\n",
      "0,0,0,1,1,0,0,0\n",
      "1,0,0,0,1,0,0,1\n",
      "0,0,1,0,1,1,1,1\n"
     ]
    }
   ],
   "source": [
    "def lire_donnees(fichier):\n",
    "    file = open(fichier,\"r\")\n",
    "    content = file.read()\n",
    "    tab_de_lignes = content.split(\"\\n\")\n",
    "    nbLine = len(tab_de_lignes)\n",
    "    nbCol = len(tab_de_lignes[0].split(\",\"))\n",
    "    # ****************    Temoin de verification    ****************************\n",
    "    #print(\"nombre de ligne ::\",nbLine,\"\\n nombre de colones :: \" ,nbCol,\"\\n\",tab_de_lignes)\n",
    "    return nbLine , nbCol , content\n",
    "print(lire_donnees(nom_fichier)[2])"
   ],
   "metadata": {
    "collapsed": false,
    "pycharm": {
     "name": "#%%\n"
    }
   }
  },
  {
   "cell_type": "code",
   "execution_count": 49,
   "outputs": [],
   "source": [],
   "metadata": {
    "collapsed": false,
    "pycharm": {
     "name": "#%%\n"
    }
   }
  },
  {
   "cell_type": "code",
   "execution_count": 49,
   "outputs": [],
   "source": [],
   "metadata": {
    "collapsed": false,
    "pycharm": {
     "name": "#%%\n"
    }
   }
  },
  {
   "cell_type": "code",
   "execution_count": 49,
   "outputs": [],
   "source": [],
   "metadata": {
    "collapsed": false,
    "pycharm": {
     "name": "#%%\n"
    }
   }
  },
  {
   "cell_type": "markdown",
   "source": [
    "\n",
    "##Creer la matrice de données##\n"
   ],
   "metadata": {
    "collapsed": false
   }
  },
  {
   "cell_type": "code",
   "execution_count": 50,
   "outputs": [
    {
     "name": "stdout",
     "output_type": "stream",
     "text": [
      "le jeux de données ::\n",
      "le jeux de données ::\n"
     ]
    },
    {
     "data": {
      "text/plain": "[[1, 0, 0, 1, 0, 1, 0, 0],\n [0, 0, 1, 0, 1, 0, 0, 0],\n [1, 0, 1, 1, 0, 1, 1, 0],\n [0, 1, 0, 0, 0, 1, 0, 0],\n [0, 0, 1, 1, 0, 0, 0, 0],\n [0, 0, 0, 1, 1, 0, 0, 0],\n [1, 0, 0, 0, 1, 0, 0, 1],\n [0, 0, 1, 0, 1, 1, 1, 1]]"
     },
     "execution_count": 50,
     "metadata": {},
     "output_type": "execute_result"
    }
   ],
   "source": [
    "def init_data_matrix(fichier):\n",
    "    meta_data = lire_donnees(fichier)\n",
    "    # ***** Temoin de verification de caracteristiques du fichier lu *****\n",
    "    # print(\"nb lignes ::\",meta_data[0],\"\\n nbColones ::\",meta_data[1],\" \\ncontenue ::\",meta_data[2])\n",
    "    lignes = meta_data[2].split(\"\\n\")\n",
    "    data_frame = [[lignes[i].split(\",\")[j] for i in range(len(lignes))] for j in range(meta_data[1])]\n",
    "    data_frame = [[int(data_frame[j][i]) for j in range(meta_data[1])] for i in range(len(lignes))]\n",
    "    print(\"le jeux de données ::\")\n",
    "    return data_frame\n",
    "data_f = init_data_matrix(nom_fichier)\n",
    "init_data_matrix(nom_fichier)"
   ],
   "metadata": {
    "collapsed": false,
    "pycharm": {
     "name": "#%%\n"
    }
   }
  },
  {
   "cell_type": "code",
   "execution_count": 50,
   "outputs": [],
   "source": [],
   "metadata": {
    "collapsed": false,
    "pycharm": {
     "name": "#%%\n"
    }
   }
  },
  {
   "cell_type": "markdown",
   "source": [
    "recuperer un individu"
   ],
   "metadata": {
    "collapsed": false
   }
  },
  {
   "cell_type": "code",
   "execution_count": 51,
   "outputs": [
    {
     "data": {
      "text/plain": "[0, 0, 1, 0, 1, 0, 0, 0]"
     },
     "execution_count": 51,
     "metadata": {},
     "output_type": "execute_result"
    }
   ],
   "source": [
    "def get_individu(n,data):\n",
    "    return [data[n-1][i] for i in range(len(data[0]))]\n",
    "indiv_i = get_individu(2,data_f)\n",
    "get_individu(2,data_f)"
   ],
   "metadata": {
    "collapsed": false,
    "pycharm": {
     "name": "#%%\n"
    }
   }
  },
  {
   "cell_type": "code",
   "execution_count": 51,
   "outputs": [],
   "source": [],
   "metadata": {
    "collapsed": false,
    "pycharm": {
     "name": "#%%\n"
    }
   }
  },
  {
   "cell_type": "markdown",
   "source": [
    "recuperer une variable"
   ],
   "metadata": {
    "collapsed": false
   }
  },
  {
   "cell_type": "code",
   "execution_count": 51,
   "outputs": [],
   "source": [],
   "metadata": {
    "collapsed": false,
    "pycharm": {
     "name": "#%%\n"
    }
   }
  },
  {
   "cell_type": "code",
   "execution_count": 52,
   "outputs": [
    {
     "data": {
      "text/plain": "[1, 0, 1, 0, 0, 0, 1, 0]"
     },
     "execution_count": 52,
     "metadata": {},
     "output_type": "execute_result"
    }
   ],
   "source": [
    "\n",
    "def get_var(n,data):\n",
    "    # affichage des variables\n",
    "    #print(\"variable 2 ::\",[data[i][n-1] for i in range(len(data))])\n",
    "    return [data[i][n-1] for i in range(len(data))]\n",
    "var_i = get_var(1,data_f)\n",
    "get_var(1,data_f)"
   ],
   "metadata": {
    "collapsed": false,
    "pycharm": {
     "name": "#%%\n"
    }
   }
  },
  {
   "cell_type": "code",
   "execution_count": 52,
   "outputs": [],
   "source": [],
   "metadata": {
    "collapsed": false,
    "pycharm": {
     "name": "#%%\n"
    }
   }
  },
  {
   "cell_type": "code",
   "execution_count": 53,
   "outputs": [
    {
     "data": {
      "text/plain": "[1, 0, 1, 0, 0, 0, 1, 0]"
     },
     "execution_count": 53,
     "metadata": {},
     "output_type": "execute_result"
    }
   ],
   "source": [
    "# *******  Calcul des variables en X^2\n",
    "def get_pow_var(n,data):\n",
    "    return [(data[i][n-1])**2 for i in range(len(data))]\n",
    "var_o_carre = get_pow_var(1,data_f)\n",
    "get_pow_var(1,data_f)"
   ],
   "metadata": {
    "collapsed": false,
    "pycharm": {
     "name": "#%%\n"
    }
   }
  },
  {
   "cell_type": "code",
   "execution_count": 53,
   "outputs": [],
   "source": [],
   "metadata": {
    "collapsed": false,
    "pycharm": {
     "name": "#%%\n"
    }
   }
  },
  {
   "cell_type": "code",
   "execution_count": 53,
   "outputs": [],
   "source": [],
   "metadata": {
    "collapsed": false,
    "pycharm": {
     "name": "#%%\n"
    }
   }
  },
  {
   "cell_type": "code",
   "execution_count": 53,
   "outputs": [],
   "source": [],
   "metadata": {
    "collapsed": false,
    "pycharm": {
     "name": "#%%\n"
    }
   }
  },
  {
   "cell_type": "markdown",
   "source": [
    "**preparation des données**"
   ],
   "metadata": {
    "collapsed": false,
    "pycharm": {
     "name": "#%% md\n"
    }
   }
  },
  {
   "cell_type": "markdown",
   "source": [
    "#text-center #centrage des données#"
   ],
   "metadata": {
    "collapsed": false,
    "pycharm": {
     "name": "#%% md\n"
    }
   }
  },
  {
   "cell_type": "code",
   "execution_count": 54,
   "outputs": [
    {
     "data": {
      "text/plain": "[0.375, 0.125, 0.5, 0.5, 0.5, 0.5, 0.25, 0.25]"
     },
     "execution_count": 54,
     "metadata": {},
     "output_type": "execute_result"
    }
   ],
   "source": [
    "\"\"\"  *************  calcul de l'individu moyen  ********* \"\"\"\n",
    "def ind_moyen(data_frame):\n",
    "    \"\"\" idm = [data_frame[j][i]/len(data_frame) for i in range(len(data_f[0])) for j in range(len(data_f)) ]\"\"\"\n",
    "    colSom = [sum(get_var(i+1,data_frame)) for i in range(len(data_frame[0]))]\n",
    "    idm = [colSom[i]/len(data_frame)  for i in range(len(data_frame[0]))]\n",
    "    return idm\n",
    "id_Moyen = ind_moyen(data_f)\n",
    "ind_moyen(data_f)"
   ],
   "metadata": {
    "collapsed": false,
    "pycharm": {
     "name": "#%%\n"
    }
   }
  },
  {
   "cell_type": "code",
   "execution_count": 54,
   "outputs": [],
   "source": [],
   "metadata": {
    "collapsed": false,
    "pycharm": {
     "name": "#%%\n"
    }
   }
  },
  {
   "cell_type": "markdown",
   "source": [
    "*calcul de l'ecart type*"
   ],
   "metadata": {
    "collapsed": false
   }
  },
  {
   "cell_type": "code",
   "execution_count": 55,
   "outputs": [
    {
     "data": {
      "text/plain": "[0.4841229182759271,\n 0.33071891388307384,\n 0.5,\n 0.5,\n 0.5,\n 0.5,\n 0.4330127018922193,\n 0.4330127018922193]"
     },
     "execution_count": 55,
     "metadata": {},
     "output_type": "execute_result"
    }
   ],
   "source": [
    "def ecart_type(data_frame):\n",
    "    ecT = [math.sqrt(((1/len(data_frame)) * (sum(get_pow_var(i+1,data_frame)))) - (ind_moyen(data_frame)[i])**2) for i in range(len(data_frame[0]))]\n",
    "    #print(\"moyenne var 1 ::\",(ind_moyen(data_frame)[0]),\"\\n somme puissances var 1 ::\",sum(get_pow_var(0,data_frame)),\"\\n les valeurs initiaux individu 1::\",get_var(1,data_frame),\"\\n nb individus ::\",len(data_frame))\n",
    "    return ecT\n",
    "tab_ecT_var = ecart_type(data_f)\n",
    "ecart_type(data_f)"
   ],
   "metadata": {
    "collapsed": false,
    "pycharm": {
     "name": "#%%\n"
    }
   }
  },
  {
   "cell_type": "code",
   "execution_count": 55,
   "outputs": [],
   "source": [],
   "metadata": {
    "collapsed": false,
    "pycharm": {
     "name": "#%%\n"
    }
   }
  },
  {
   "cell_type": "code",
   "execution_count": 56,
   "outputs": [
    {
     "name": "stdout",
     "output_type": "stream",
     "text": [
      "[[ 1.291 -0.378 -1.     1.    -1.     1.    -0.577 -0.577]\n",
      " [-0.775 -0.378  1.    -1.     1.    -1.    -0.577 -0.577]\n",
      " [ 1.291 -0.378  1.     1.    -1.     1.     1.732 -0.577]\n",
      " [-0.775  2.646 -1.    -1.    -1.     1.    -0.577 -0.577]\n",
      " [-0.775 -0.378  1.     1.    -1.    -1.    -0.577 -0.577]\n",
      " [-0.775 -0.378 -1.     1.     1.    -1.    -0.577 -0.577]\n",
      " [ 1.291 -0.378 -1.    -1.     1.    -1.    -0.577  1.732]\n",
      " [-0.775 -0.378  1.    -1.     1.     1.     1.732  1.732]]\n"
     ]
    }
   ],
   "source": [
    "from decimal import Decimal\n",
    "from fractions import Fraction\n",
    "\n",
    "def RC_data(donnees,individu_moyen,ecart_type):\n",
    "    reducted = [[(1/ecart_type[j])*(donnees[i][j]-individu_moyen[j]) for j in range(len(donnees[0]))] for i in range(len(donnees))]\n",
    "    return reducted\n",
    "rd_data = RC_data(data_f,id_Moyen,tab_ecT_var)\n",
    "RC_data(data_f,id_Moyen,tab_ecT_var)\n",
    "print(np.around(rd_data,decimals=3))\n",
    "#print(rd_data)"
   ],
   "metadata": {
    "collapsed": false,
    "pycharm": {
     "name": "#%%\n"
    }
   }
  },
  {
   "cell_type": "code",
   "execution_count": 56,
   "outputs": [],
   "source": [],
   "metadata": {
    "collapsed": false,
    "pycharm": {
     "name": "#%%\n"
    }
   }
  },
  {
   "cell_type": "markdown",
   "source": [
    "#Calcul de la matrice de covariance#"
   ],
   "metadata": {
    "collapsed": false,
    "pycharm": {
     "name": "#%% md\n"
    }
   }
  },
  {
   "cell_type": "code",
   "execution_count": 57,
   "outputs": [
    {
     "name": "stdout",
     "output_type": "stream",
     "text": [
      "[[ 8.00000000e+00 -2.34216018e+00 -2.06559112e+00  2.06559112e+00\n",
      "  -2.06559112e+00  2.06559112e+00  1.19256959e+00  1.19256959e+00]\n",
      " [-2.34216018e+00  8.00000000e+00 -3.02371578e+00 -3.02371578e+00\n",
      "  -3.02371578e+00  3.02371578e+00 -1.74574312e+00 -1.74574312e+00]\n",
      " [-2.06559112e+00 -3.02371578e+00  8.00000000e+00  0.00000000e+00\n",
      "   0.00000000e+00  0.00000000e+00  4.61880215e+00  0.00000000e+00]\n",
      " [ 2.06559112e+00 -3.02371578e+00  0.00000000e+00  8.00000000e+00\n",
      "  -4.00000000e+00  0.00000000e+00 -2.22044605e-16 -4.61880215e+00]\n",
      " [-2.06559112e+00 -3.02371578e+00  0.00000000e+00 -4.00000000e+00\n",
      "   8.00000000e+00 -4.00000000e+00  0.00000000e+00  4.61880215e+00]\n",
      " [ 2.06559112e+00  3.02371578e+00  0.00000000e+00  0.00000000e+00\n",
      "  -4.00000000e+00  8.00000000e+00  4.61880215e+00  0.00000000e+00]\n",
      " [ 1.19256959e+00 -1.74574312e+00  4.61880215e+00 -2.22044605e-16\n",
      "   0.00000000e+00  4.61880215e+00  8.00000000e+00  2.66666667e+00]\n",
      " [ 1.19256959e+00 -1.74574312e+00  0.00000000e+00 -4.61880215e+00\n",
      "   4.61880215e+00  0.00000000e+00  2.66666667e+00  8.00000000e+00]]\n"
     ]
    }
   ],
   "source": [
    "import numpy as np\n",
    "from pprint import pprint\n",
    "def covMat(matrice_donnee_reduite):\n",
    "    matd = np.array(matrice_donnee_reduite,dtype=float)\n",
    "    transpo = matd.T\n",
    "    #print(transpo,\"\\ntaille transpose ::\",np.shape(transpo),\"\\ntaille matdonnees  ::\",np.shape(matd))\n",
    "    return np.dot(transpo,matd)\n",
    "mat_Covariance = covMat(rd_data)\n",
    "#covMat(rd_data)\n",
    "print(mat_Covariance)\n",
    "#print(\"matrice de covariance  ::\\n\",mat_Covariance,\"\\n taille de matrice de covariance ::\",np.shape(mat_Covariance))"
   ],
   "metadata": {
    "collapsed": false,
    "pycharm": {
     "name": "#%%\n"
    }
   }
  },
  {
   "cell_type": "code",
   "execution_count": 57,
   "outputs": [],
   "source": [],
   "metadata": {
    "collapsed": false,
    "pycharm": {
     "name": "#%%\n"
    }
   }
  },
  {
   "cell_type": "markdown",
   "source": [
    "#determination des valeurs propres#\n",
    "LES VECTEURS PROPRES SONT LES LIGNES DES SORTIE DE LA FONCTION eig_value"
   ],
   "metadata": {
    "collapsed": false
   }
  },
  {
   "cell_type": "code",
   "execution_count": 58,
   "outputs": [
    {
     "name": "stdout",
     "output_type": "stream",
     "text": [
      "valeur propre \n",
      " [ 1.83628014e+01  1.58503917e+01  1.34679240e+01  1.06844739e+01\n",
      "  3.08508709e+00 -2.62908984e-15  1.64764753e+00  9.01674386e-01] \n",
      "Vecteurs propres  ::\n",
      " [[-0.17314858  0.26568224 -0.10404676  0.70918281  0.44303056  0.20821287\n",
      "   0.31492367  0.21647385]\n",
      " [-0.24130281 -0.28732319  0.61537084 -0.15743396  0.06157685  0.42670942\n",
      "  -0.05618165  0.51645194]\n",
      " [ 0.1376923   0.42997283 -0.17881782 -0.57532678  0.49275453  0.43008266\n",
      "   0.02047843 -0.07063984]\n",
      " [-0.42040688  0.11315762 -0.52183525  0.03887735 -0.46333008  0.43008266\n",
      "  -0.33181402  0.16396198]\n",
      " [ 0.60739527 -0.10162729 -0.07236     0.06440008 -0.41645362  0.43008266\n",
      "   0.49631482  0.08140287]\n",
      " [-0.30660374  0.4002321   0.47609561  0.06542895 -0.29432681  0.21504133\n",
      "   0.18167964 -0.5907469 ]\n",
      " [ 0.07352397  0.661527    0.14463191 -0.1202917  -0.28590415 -0.37246251\n",
      "   0.07589413  0.54346881]\n",
      " [ 0.49774569  0.20259626  0.23104928  0.34185307  0.02544308  0.18623126\n",
      "  -0.70855557 -0.05980194]] \n",
      "Ordre des vecteur propre :: [0 1 2 3 4 6 7 5]\n",
      "premier vecteur prop  :::: [-0.17314858  0.26568224 -0.10404676  0.70918281  0.44303056  0.20821287\n",
      "  0.31492367  0.21647385]\n"
     ]
    }
   ],
   "source": [
    "def eig_value(matrice_covariance):\n",
    "    return np.linalg.eig(mat_Covariance)\n",
    "val_propre,vect_propre = eig_value(mat_Covariance)\n",
    "def ordre_vect(valeurs_propres):\n",
    "    return np.argsort(valeurs_propres)[::-1][:len(valeurs_propres)]\n",
    "ordre = ordre_vect(val_propre)\n",
    "\n",
    "print(\"valeur propre \\n\",val_propre,\"\\nVecteurs propres  ::\\n\",vect_propre,\"\\nOrdre des vecteur propre ::\",ordre)\n",
    "print(\"premier vecteur prop  ::::\",vect_propre[0])"
   ],
   "metadata": {
    "collapsed": false,
    "pycharm": {
     "name": "#%%\n"
    }
   }
  },
  {
   "cell_type": "code",
   "execution_count": 58,
   "outputs": [],
   "source": [],
   "metadata": {
    "collapsed": false,
    "pycharm": {
     "name": "#%%\n"
    }
   }
  },
  {
   "cell_type": "code",
   "execution_count": 59,
   "outputs": [],
   "source": [
    "def tri_selection(tab):\n",
    "    tab1 = tab\n",
    "    ordr = [i for i in range(len(tab))]\n",
    "    for i in range(len(tab)):\n",
    "        # Trouver le min\n",
    "        min = i\n",
    "\n",
    "        for j in range(i+1, len(tab)):\n",
    "            if tab[min] > tab[j]:\n",
    "                min = j\n",
    "        tmp = tab[i]\n",
    "        tmp1 = ord[i]\n",
    "        tab[i] = tab[min]\n",
    "        ordr[i] = min\n",
    "        tab[min] = tmp\n",
    "        ordr[min] = tmp1\n",
    "\n",
    "    return tab ,ordr\n",
    "\n",
    "#val_propre_trie, ordre = tri_selection(val_propre)\n",
    "\n",
    "#print (\"valeur prop trie ::\\n\",val_propre_trie,val_propre_non_trie ,\"\\nordre de selection des vecteurs propres::\\n\",ordre)\n",
    "#for i in range(len(tab)):\n",
    "#   print (\"%d\" %tab[i])"
   ],
   "metadata": {
    "collapsed": false,
    "pycharm": {
     "name": "#%%\n"
    }
   }
  },
  {
   "cell_type": "code",
   "execution_count": 59,
   "outputs": [],
   "source": [],
   "metadata": {
    "collapsed": false,
    "pycharm": {
     "name": "#%%\n"
    }
   }
  },
  {
   "cell_type": "markdown",
   "source": [],
   "metadata": {
    "collapsed": false
   }
  },
  {
   "cell_type": "markdown",
   "source": [
    "choix du nombre d'axes"
   ],
   "metadata": {
    "collapsed": false,
    "pycharm": {
     "name": "#%% md\n"
    }
   }
  },
  {
   "cell_type": "code",
   "execution_count": 59,
   "outputs": [],
   "source": [],
   "metadata": {
    "collapsed": false,
    "pycharm": {
     "name": "#%%\n"
    }
   }
  },
  {
   "cell_type": "code",
   "execution_count": 60,
   "outputs": [
    {
     "name": "stdout",
     "output_type": "stream",
     "text": [
      "ce nombre d'axe ne garantit pas une bonne conservation de l'information\n",
      "\t\t\t\t\tInertie :: 0.7450174547101543 \n",
      "\t\t\t\t\tNombre d'axes :: 3 \n",
      "\t\t\t\t\tValeurs_p :: [18.362801414601574, 15.850391668729925, 13.467924018118392] \n",
      "\t\t\t\t\tVecteur propres  :: [array([-0.17314858,  0.26568224, -0.10404676,  0.70918281,  0.44303056,\n",
      "        0.20821287,  0.31492367,  0.21647385]), array([-0.24130281, -0.28732319,  0.61537084, -0.15743396,  0.06157685,\n",
      "        0.42670942, -0.05618165,  0.51645194]), array([ 0.1376923 ,  0.42997283, -0.17881782, -0.57532678,  0.49275453,\n",
      "        0.43008266,  0.02047843, -0.07063984])]\n",
      "dimention des axes :: (3, 8) \n",
      "Nombres axes :: 3 \n",
      "Dimention des donnes reduit :: (8, 8) \n",
      "taux d'inertie :: 0.7450174547101543 \n",
      "Vecteurs propres\n",
      "*****************************************\n",
      "\n",
      "[array([-0.17314858,  0.26568224, -0.10404676,  0.70918281,  0.44303056,\n",
      "        0.20821287,  0.31492367,  0.21647385]),\n",
      " array([-0.24130281, -0.28732319,  0.61537084, -0.15743396,  0.06157685,\n",
      "        0.42670942, -0.05618165,  0.51645194]),\n",
      " array([ 0.1376923 ,  0.42997283, -0.17881782, -0.57532678,  0.49275453,\n",
      "        0.43008266,  0.02047843, -0.07063984])]\n"
     ]
    }
   ],
   "source": [
    "def choix_axes(tableau_valeur_prop,ordre_valeurs_propre,vect_propre):\n",
    "    #tableau_valeur_prop1 = reversed(tableau_valeur_prop)\n",
    "    nombre_axe = 1\n",
    "    if(nombre_axe == 1 ):\n",
    "        valeur_p = tableau_valeur_prop[ordre_valeurs_propre[0]]\n",
    "        inertie = valeur_p/sum(tableau_valeur_prop)\n",
    "        vecteur = vect_propre[ordre_valeurs_propre[0]]\n",
    "        if(inertie < 0.8 and len(val_propre) >1):\n",
    "            nombre_axe = 2\n",
    "            valeur_p = [tableau_valeur_prop[ordre_valeurs_propre[0]],tableau_valeur_prop[ordre_valeurs_propre[1]]]\n",
    "            inertie = sum(valeur_p)/sum(tableau_valeur_prop)\n",
    "            vecteur = [vect_propre[ordre_valeurs_propre[0]],vect_propre[ordre_valeurs_propre[1]]]\n",
    "            if(inertie < 0.8 and len(val_propre) >2):\n",
    "                nombre_axe = 3\n",
    "                valeur_p = [tableau_valeur_prop[ordre_valeurs_propre[0]],tableau_valeur_prop[ordre_valeurs_propre[1]],tableau_valeur_prop[ordre_valeurs_propre[2]]]\n",
    "                inertie = sum(valeur_p)/sum(tableau_valeur_prop)\n",
    "                vecteur = [vect_propre[ordre_valeurs_propre[0]],vect_propre[ordre_valeurs_propre[1]],vect_propre[ordre_valeurs_propre[2]]]\n",
    "    if(inertie < 0.80 ):\n",
    "        print(\"ce nombre d'axe ne garantit pas une bonne conservation de l'information\\n\\t\\t\\t\\t\\tInertie ::\",inertie,\"\\n\\t\\t\\t\\t\\tNombre d'axes ::\",nombre_axe,\"\\n\\t\\t\\t\\t\\tValeurs_p ::\",valeur_p,\"\\n\\t\\t\\t\\t\\tVecteur propres  ::\",vecteur)\n",
    "        return nombre_axe ,valeur_p,inertie,vecteur\n",
    "    return nombre_axe ,valeur_p,inertie,vecteur\n",
    "nb_axes,valeur_propre,inertie,axes_principaux = choix_axes(val_propre,ordre,vect_propre)\n",
    "print(\"dimention des axes ::\",np.shape(axes_principaux),\"\\nNombres axes ::\",nb_axes,\"\\nDimention des donnes reduit ::\",np.shape(rd_data),\"\\ntaux d'inertie ::\",inertie,\"\\nVecteurs propres\\n*****************************************\\n\")\n",
    "pprint(axes_principaux)"
   ],
   "metadata": {
    "collapsed": false,
    "pycharm": {
     "name": "#%%\n"
    }
   }
  },
  {
   "cell_type": "code",
   "execution_count": 60,
   "outputs": [],
   "source": [],
   "metadata": {
    "collapsed": false,
    "pycharm": {
     "name": "#%%\n"
    }
   }
  },
  {
   "cell_type": "markdown",
   "source": [
    "#Calcul des composantes principaux#"
   ],
   "metadata": {
    "collapsed": false,
    "pycharm": {
     "name": "#%% md\n"
    }
   }
  },
  {
   "cell_type": "code",
   "execution_count": 61,
   "outputs": [
    {
     "name": "stdout",
     "output_type": "stream",
     "text": [
      "[[-0.052342916840369555, -0.8763320374081978, -0.41497458911026586],\n",
      " [-0.8515125283387889, 0.43744536373735793, 0.2189710822821708],\n",
      " [0.4668486126642653, 0.2246636778903887, -0.7253173257590135],\n",
      " [-0.30970678169471716, -0.93181484877215, 1.7513786189390863],\n",
      " [-0.3192080348492046, -0.0005762536198257173, -1.91719154611064],\n",
      " [0.7749466218553661, -1.108164227424628, -0.5740468426177913],\n",
      " [-0.5011482062165096, -0.09903457800072146, 0.6978869971175334],\n",
      " [0.7921232334199587, 2.353812903597776, 0.96329360525892]]\n"
     ]
    }
   ],
   "source": [
    "def multiply(m1, m2):\n",
    "    m = []\n",
    "    if len(m1[0]) != len(m2):\n",
    "        print (\"erreur\")\n",
    "        return False\n",
    "    for i in range(len(m1)):\n",
    "        ligne = []\n",
    "        for j in range(len(m2[0])):\n",
    "            element = 0\n",
    "            for k in range(len(m1[0])):\n",
    "                element = element + m1[i][k] * m2[k][j]\n",
    "            ligne.append(element)\n",
    "        m.append(ligne)\n",
    "    return m\n",
    "cmp = multiply(np.array(rd_data),np.transpose(axes_principaux))\n",
    "pprint(cmp)"
   ],
   "metadata": {
    "collapsed": false,
    "pycharm": {
     "name": "#%%\n"
    }
   }
  },
  {
   "cell_type": "code",
   "execution_count": 61,
   "outputs": [],
   "source": [],
   "metadata": {
    "collapsed": false,
    "pycharm": {
     "name": "#%%\n"
    }
   }
  },
  {
   "cell_type": "code",
   "execution_count": 62,
   "outputs": [],
   "source": [
    "#def composantes_princ(matrice_centrée,axes_principaux):\n",
    "    #axes_principaux = np.array(axes_principaux)\n",
    "    #matrice_centrée = np.array(matrice_centrée)\n",
    "   # return np.dot(matrice_centrée,np.transpose(axes_principaux))\n",
    "#print(rd_data)\n",
    "#print(type(np.transpose(axes_principaux)),\"\\n\",type(np.array(rd_data)))\n",
    "#cmp = composantes_princ(rd_data,axes_principaux)\n",
    "#print(\"Dimention des composantes principales ::\",np.shape(cmp),\"\\n*****************************************************\\nMatrice des composantes principales ::\\n\",cmp)"
   ],
   "metadata": {
    "collapsed": false,
    "pycharm": {
     "name": "#%%\n"
    }
   }
  },
  {
   "cell_type": "code",
   "execution_count": 62,
   "outputs": [],
   "source": [],
   "metadata": {
    "collapsed": false,
    "pycharm": {
     "name": "#%%\n"
    }
   }
  },
  {
   "cell_type": "markdown",
   "source": [
    "CORRELATION ENTRE LES AXES ET LES VARIABLES\n",
    "produit de chaque composante principal i par la transposé de la variable j ,le tout par la taille de la population"
   ],
   "metadata": {
    "collapsed": false,
    "pycharm": {
     "name": "#%% md\n"
    }
   }
  },
  {
   "cell_type": "code",
   "execution_count": 63,
   "outputs": [
    {
     "name": "stdout",
     "output_type": "stream",
     "text": [
      "[[-0.022 -0.117  0.022  0.218  0.054  0.224  0.363  0.084]\n",
      " [-0.194 -0.352  0.754 -0.44   0.396  0.193  0.744  0.651]\n",
      " [-0.114  0.662 -0.365 -0.908  0.327  0.394  0.069  0.48 ]]\n"
     ]
    }
   ],
   "source": [
    "def corr_comp_var(composantes_principales,donnees_centre_reduite):\n",
    "\n",
    "    corr = [[1/len(donnees_centre_reduite)*np.dot(get_var(i+1,composantes_principales),get_var(j+1,donnees_centre_reduite)) for j in range(len(donnees_centre_reduite[0]))] for i in range(len(composantes_principales[0]))]\n",
    "    return corr\n",
    "cmp_principal_var = corr_comp_var(np.array(cmp),np.array(rd_data))\n",
    "cmp_principal_var = np.around(cmp_principal_var,decimals=3)\n",
    "print(cmp_principal_var)"
   ],
   "metadata": {
    "collapsed": false,
    "pycharm": {
     "name": "#%%\n"
    }
   }
  },
  {
   "cell_type": "code",
   "execution_count": 63,
   "outputs": [],
   "source": [],
   "metadata": {
    "collapsed": false,
    "pycharm": {
     "name": "#%%\n"
    }
   }
  },
  {
   "cell_type": "code",
   "execution_count": 63,
   "outputs": [],
   "source": [],
   "metadata": {
    "collapsed": false,
    "pycharm": {
     "name": "#%%\n"
    }
   }
  },
  {
   "cell_type": "code",
   "execution_count": 63,
   "outputs": [],
   "source": [],
   "metadata": {
    "collapsed": false,
    "pycharm": {
     "name": "#%%\n"
    }
   }
  },
  {
   "cell_type": "code",
   "execution_count": 63,
   "outputs": [],
   "source": [],
   "metadata": {
    "collapsed": false,
    "pycharm": {
     "name": "#%%\n"
    }
   }
  },
  {
   "cell_type": "code",
   "execution_count": 63,
   "outputs": [],
   "source": [],
   "metadata": {
    "collapsed": false,
    "pycharm": {
     "name": "#%%\n"
    }
   }
  },
  {
   "cell_type": "markdown",
   "source": [
    "Representation des données"
   ],
   "metadata": {
    "collapsed": false,
    "pycharm": {
     "name": "#%% md\n"
    }
   }
  },
  {
   "cell_type": "code",
   "execution_count": 64,
   "outputs": [
    {
     "data": {
      "text/plain": "<Figure size 432x288 with 2 Axes>",
      "image/png": "[encoded data removed]"
     },
     "metadata": {
      "needs_background": "light"
     },
     "output_type": "display_data"
    },
    {
     "ename": "NameError",
     "evalue": "name 'area' is not defined",
     "output_type": "error",
     "traceback": [
      "\u001B[0;31m---------------------------------------------------------------------------\u001B[0m",
      "\u001B[0;31mNameError\u001B[0m                                 Traceback (most recent call last)",
      "\u001B[0;32m<ipython-input-64-db248b36416c>\u001B[0m in \u001B[0;36m<module>\u001B[0;34m\u001B[0m\n\u001B[1;32m     47\u001B[0m \u001B[0mfig\u001B[0m \u001B[0;34m=\u001B[0m \u001B[0mplt\u001B[0m\u001B[0;34m.\u001B[0m\u001B[0mfigure\u001B[0m\u001B[0;34m(\u001B[0m\u001B[0;34m)\u001B[0m\u001B[0;34m\u001B[0m\u001B[0;34m\u001B[0m\u001B[0m\n\u001B[1;32m     48\u001B[0m \u001B[0max\u001B[0m \u001B[0;34m=\u001B[0m \u001B[0mfig\u001B[0m\u001B[0;34m.\u001B[0m\u001B[0madd_subplot\u001B[0m\u001B[0;34m(\u001B[0m\u001B[0mprojection\u001B[0m\u001B[0;34m=\u001B[0m\u001B[0;34m'polar'\u001B[0m\u001B[0;34m)\u001B[0m\u001B[0;34m\u001B[0m\u001B[0;34m\u001B[0m\u001B[0m\n\u001B[0;32m---> 49\u001B[0;31m \u001B[0mc\u001B[0m \u001B[0;34m=\u001B[0m \u001B[0max\u001B[0m\u001B[0;34m.\u001B[0m\u001B[0mscatter\u001B[0m\u001B[0;34m(\u001B[0m\u001B[0mcmp_principal_var\u001B[0m\u001B[0;34m[\u001B[0m\u001B[0;36m0\u001B[0m\u001B[0;34m]\u001B[0m\u001B[0;34m,\u001B[0m\u001B[0mr\u001B[0m\u001B[0;34m,\u001B[0m \u001B[0mc\u001B[0m\u001B[0;34m=\u001B[0m\u001B[0mcolors\u001B[0m\u001B[0;34m,\u001B[0m \u001B[0ms\u001B[0m\u001B[0;34m=\u001B[0m\u001B[0marea\u001B[0m\u001B[0;34m,\u001B[0m \u001B[0mcmap\u001B[0m\u001B[0;34m=\u001B[0m\u001B[0;34m'hsv'\u001B[0m\u001B[0;34m,\u001B[0m \u001B[0malpha\u001B[0m\u001B[0;34m=\u001B[0m\u001B[0;36m1\u001B[0m\u001B[0;34m)\u001B[0m\u001B[0;34m\u001B[0m\u001B[0;34m\u001B[0m\u001B[0m\n\u001B[0m",
      "\u001B[0;31mNameError\u001B[0m: name 'area' is not defined"
     ]
    },
    {
     "data": {
      "text/plain": "<Figure size 432x288 with 1 Axes>",
      "image/png": "[encoded data removed]"
     },
     "metadata": {
      "needs_background": "light"
     },
     "output_type": "display_data"
    }
   ],
   "source": [
    "from mpl_toolkits.mplot3d import Axes3D\n",
    "from matplotlib import cm\n",
    "from matplotlib.colors import LogNorm\n",
    "import matplotlib.pyplot as plt\n",
    "\n",
    "#fig = plt.figure()\n",
    "#ax = fig.gca(projection='3d')\n",
    "marker_size = 150\n",
    "plt.scatter(get_var(1,cmp),get_var(2,cmp),marker_size,c = get_var(2,cmp))\n",
    "cbar = plt.colorbar()\n",
    "cbar.set_label(\"*** Nivo sur comp 2 ***\", labelpad=5)\n",
    "plt.title(\"Courbe individus\")\n",
    "plt.title(\"Point observations\")\n",
    "plt.xlabel(\"******premiere cmposante*****\")\n",
    "plt.ylabel(\"********  deuxieme composante*****\")\n",
    "#ax.set_xlabel('Axe 1')\n",
    "#ax.set_ylabel('Axe 2')\n",
    "#ax.set_zlabel('Axe 3')\n",
    "#plt.tight_layout()\n",
    "#ax.view_init(45,60)\n",
    "plt.show()\n",
    "#a = np.arange(np.array(get_var(1,cmp)))\n",
    "#b = np.arange(np.array(get_var(1,cmp)))\n",
    "#c = np.arange(np.array(get_var(1,cmp)))\n",
    "#A,B,C = np.meshgrid(a,b,c)\n",
    "#C = h(A,B)\n",
    "#ax.plot_wireframe(A,B,C,rstride=1, cstride=1)\"\n",
    "#ax.plot_surface(a.all(),b.all(),c.all(),rstride=1, cstride=1)\n",
    "#ax.plot(get_var(1,cmp),get_var(2,cmp),get_var(3,cmp))\n",
    "#plt.xlabel(\"parameter 1 : x\")\n",
    "#plt.ylabel(\"parameter 2 : y\")\n",
    "\n",
    "\n",
    "\n",
    "# Fixing random state for reproducibility\n",
    "\n",
    "\n",
    "# Fixing random state for reproducibility\n",
    "#np.random.seed(19680801)\n",
    "\n",
    "# Compute areas and colors\n",
    "N = len(cmp_principal_var[0])\n",
    "r = [1]*len(cmp_principal_var[0])\n",
    "theta = 2 * np.pi * np.random.rand(N)\n",
    "colors = theta\n",
    "\n",
    "fig = plt.figure()\n",
    "ax = fig.add_subplot(projection='polar')\n",
    "c = ax.scatter(cmp_principal_var[0],r, c=colors, s=area, cmap='hsv', alpha=1)"
   ],
   "metadata": {
    "collapsed": false,
    "pycharm": {
     "name": "#%%\n"
    }
   }
  },
  {
   "cell_type": "code",
   "execution_count": null,
   "outputs": [],
   "source": [],
   "metadata": {
    "collapsed": false,
    "pycharm": {
     "name": "#%%\n"
    }
   }
  },
  {
   "cell_type": "code",
   "execution_count": null,
   "outputs": [],
   "source": [],
   "metadata": {
    "collapsed": false,
    "pycharm": {
     "name": "#%%\n"
    }
   }
  },
  {
   "cell_type": "code",
   "execution_count": null,
   "outputs": [],
   "source": [],
   "metadata": {
    "collapsed": false,
    "pycharm": {
     "name": "#%%\n"
    }
   }
  },
  {
   "cell_type": "code",
   "execution_count": null,
   "outputs": [],
   "source": [],
   "metadata": {
    "collapsed": false,
    "pycharm": {
     "name": "#%%\n"
    }
   }
  },
  {
   "cell_type": "code",
   "execution_count": null,
   "outputs": [],
   "source": [
    "# ************* EXECUTION ******************\n",
    "#nom_fichier,nbLignes,nbColone = defition_donnes()\n",
    "choix = str(input(\"Generer un fichier ?(0 == oui )\\n fichier existant (N == non) ::\"))\n",
    "if(choix == \"o\" or choix==\"O\"):\n",
    "    creer_fichier_de_données(nom_fichier,nbLignes,nbColone)\n",
    "    data_f = init_data_matrix(defition_donnes())\n",
    "else:\n",
    "    nom_fichier,nbLignes,nbColone = defition_donnes()\n",
    "    data_f = init_data_matrix(nom_fichier)\n",
    "idm = ind_moyen(data_f)\n",
    "tab_ect = ecart_type(data_f)\n",
    "rd_data = RC_data(data_f,idm,tab_ect)\n",
    "mat_cova = covMat(rd_data)\n",
    "valeur_propre,vect_propre = eig_value(mat_cova)\n",
    "ordre_vecteurs = ordre_vect(valeur_propre)\n",
    "nombre_axe ,valeur_p,inertie,vecteur_choisi = choix_axes(valeur_propre,ordre_vecteurs,vect_propre)\n",
    "composant_princ = multiply(rd_data,np.transpose(vecteur_choisi))\n",
    "correlation_axe_var = corr_comp_var(composant_princ,rd_data)\n",
    "\n",
    "\n",
    "# ***********************************************************************\n",
    "# ***********************   REPRESENTATION ******************************\n",
    "# ***********************************************************************\n",
    "from mpl_toolkits.mplot3d import Axes3D\n",
    "from matplotlib import cm\n",
    "from matplotlib.colors import LogNorm\n",
    "import matplotlib.pyplot as plt\n",
    "fig = plt.figure()\n",
    "ax = fig.gca(projection='3d')\n",
    "ax.scatter(get_var(1,cmp),get_var(2,cmp),get_var(3,cmp),label='courbe')\n",
    "plt.title(\"Courbe individus\")\n",
    "ax.set_xlabel('Axe 1')\n",
    "ax.set_ylabel('Axe 2')\n",
    "ax.set_zlabel('Axe 3')\n",
    "plt.tight_layout()\n",
    "ax.view_init(45,60)\n",
    "plt.show()\n",
    "#a = np.arange(np.array(get_var(1,cmp)))\n",
    "#b = np.arange(np.array(get_var(1,cmp)))\n",
    "#c = np.arange(np.array(get_var(1,cmp)))\n",
    "#A,B,C = np.meshgrid(a,b,c)\n",
    "#C = h(A,B)\n",
    "#ax.plot_wireframe(A,B,C,rstride=1, cstride=1)\"\n",
    "#ax.plot_surface(a.all(),b.all(),c.all(),rstride=1, cstride=1)\n",
    "#ax.plot(get_var(1,cmp),get_var(2,cmp),get_var(3,cmp))\n",
    "#plt.xlabel(\"parameter 1 : x\")\n",
    "#plt.ylabel(\"parameter 2 : y\")\n",
    "\n",
    "\n",
    "\n",
    "# Fixing random state for reproducibility\n",
    "\n",
    "\n",
    "# Fixing random state for reproducibility\n",
    "#np.random.seed(19680801)\n",
    "\n",
    "# Compute areas and colors\n",
    "N = len(cmp_principal_var[0])\n",
    "r = [1]*len(cmp_principal_var[0])\n",
    "theta = 2 * np.pi * np.random.rand(N)\n",
    "colors = theta\n",
    "\n",
    "fig = plt.figure()\n",
    "ax = fig.add_subplot(projection='polar')\n",
    "c = ax.scatter(cmp_principal_var[0],r, c=colors, s=area, cmap='hsv', alpha=1)"
   ],
   "metadata": {
    "collapsed": false,
    "pycharm": {
     "name": "#%%\n"
    }
   }
  },
  {
   "cell_type": "code",
   "execution_count": null,
   "outputs": [],
   "source": [],
   "metadata": {
    "collapsed": false,
    "pycharm": {
     "name": "#%%\n"
    }
   }
  },
  {
   "cell_type": "code",
   "execution_count": null,
   "outputs": [],
   "source": [],
   "metadata": {
    "collapsed": false,
    "pycharm": {
     "name": "#%%\n"
    }
   }
  },
  {
   "cell_type": "code",
   "execution_count": null,
   "outputs": [],
   "source": [],
   "metadata": {
    "collapsed": false,
    "pycharm": {
     "name": "#%%\n"
    }
   }
  }
 ],
 "metadata": {
  "kernelspec": {
   "display_name": "Python 3",
   "language": "python",
   "name": "python3"
  },
  "language_info": {
   "codemirror_mode": {
    "name": "ipython",
    "version": 2
   },
   "file_extension": ".py",
   "mimetype": "text/x-python",
   "name": "python",
   "nbconvert_exporter": "python",
   "pygments_lexer": "ipython2",
   "version": "2.7.6"
  }
 },
 "nbformat": 4,
 "nbformat_minor": 0
}